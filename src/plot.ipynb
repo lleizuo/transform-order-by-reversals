{
 "cells": [
  {
   "cell_type": "code",
   "execution_count": 1,
   "metadata": {},
   "outputs": [],
   "source": [
    "import pandas as pd\n",
    "import matplotlib.pyplot as plt\n"
   ]
  },
  {
   "cell_type": "code",
   "execution_count": 2,
   "metadata": {},
   "outputs": [],
   "source": [
    "def find_cycle(raw_list):\n",
    "\tn = len(raw_list)\n",
    "\twork_list = [abs(int(elem)) for elem in raw_list]\n",
    "\tflag_list = [0 for elem in raw_list]\n",
    "\tcycle_count = 0\n",
    "\tfor elem in range(n):\n",
    "\t\tif flag_list[elem] == 0:\n",
    "\t\t\tflag_list[elem] = 1\n",
    "\t\t\ttemp = work_list[elem] # temp = 7\n",
    "\t\t\twhile work_list[temp-1] != elem + 1: # list[6] = 1?\n",
    "\t\t\t\tflag_list[temp-1] = 1\n",
    "\t\t\t\ttemp = work_list[temp-1] # temp = 2\n",
    "\t\t\tflag_list[temp-1] = 1\n",
    "\t\t\tcycle_count += 1\n",
    "\treturn cycle_count\n",
    "\n",
    "\n",
    "def find_pos_neg(raw_list):\n",
    "\tn = len(raw_list)\n",
    "\tpos_count = 0\n",
    "\tneg_count = 0\n",
    "\tfor elem in raw_list:\n",
    "\t\tif int(elem) > 0:\n",
    "\t\t\tpos_count += 1\n",
    "\t\tif int(elem) < 0:\n",
    "\t\t\tneg_count += 1\n",
    "\treturn (pos_count,neg_count)"
   ]
  },
  {
   "cell_type": "code",
   "execution_count": 3,
   "metadata": {},
   "outputs": [
    {
     "name": "stdout",
     "output_type": "stream",
     "text": [
      "   Unnamed: 0   time_ilp  time_sat                                      list  \\\n",
      "0           0  17.574184  2.499419  ['8', '4', '1', '7', '6', '3', '5', '2']   \n",
      "1           1   4.730409  1.934287  ['4', '6', '5', '1', '8', '2', '7', '3']   \n",
      "2           2   6.518767  6.456253  ['7', '8', '3', '5', '1', '4', '6', '2']   \n",
      "3           3   9.223072  2.138901  ['6', '5', '2', '8', '1', '4', '3', '7']   \n",
      "4           4   8.494995  1.569936  ['1', '5', '2', '4', '6', '7', '8', '3']   \n",
      "5           5   1.053842  1.255754  ['1', '2', '3', '5', '8', '7', '4', '6']   \n",
      "6           6   6.192986  1.737304  ['5', '8', '1', '4', '7', '6', '3', '2']   \n",
      "7           7   2.796458  1.809488  ['1', '4', '7', '8', '5', '2', '6', '3']   \n",
      "8           8   5.626686  1.534371  ['8', '6', '7', '4', '3', '2', '5', '1']   \n",
      "9           9   6.402418  1.593264  ['1', '8', '7', '2', '4', '6', '3', '5']   \n",
      "\n",
      "   num_of_operations                                         operations  \n",
      "0                  5  {6: [(1, 3, 2), (1, 8, 6), (2, 3, 1), (2, 3, 5...  \n",
      "1                  4  {6: [(1, 3, 2), (2, 6, 3), (3, 4, 1), (4, 5, 4...  \n",
      "2                  5  {6: [(1, 3, 2), (2, 8, 6), (3, 4, 4), (3, 7, 1...  \n",
      "3                  4  {6: [(1, 3, 2), (2, 3, 5), (3, 4, 3), (3, 6, 1...  \n",
      "4                  4  {6: [(2, 5, 1), (3, 4, 6), (4, 5, 5), (4, 7, 4...  \n",
      "5                  3  {6: [(3, 5, 1), (3, 5, 3), (3, 5, 6), (3, 8, 4...  \n",
      "6                  4  {6: [(1, 3, 2), (2, 8, 6), (3, 5, 1), (3, 5, 3...  \n",
      "7                  4  {6: [(2, 4, 2), (3, 5, 4), (4, 5, 5), (4, 6, 3...  \n",
      "8                  4  {6: [(1, 4, 1), (1, 4, 5), (1, 5, 3), (1, 8, 2...  \n",
      "9                  4  {6: [(2, 4, 2), (2, 8, 6), (4, 5, 1), (4, 5, 4...  \n"
     ]
    }
   ],
   "source": [
    "df = pd.read_csv(\"../cmp_data/p_cmp_unsigned_8_10.csv\")\n",
    "print(df)"
   ]
  },
  {
   "cell_type": "code",
   "execution_count": 4,
   "metadata": {},
   "outputs": [
    {
     "data": {
      "image/png": "[encoded data removed]",
      "text/plain": [
       "<matplotlib.figure.Figure at 0x114432a20>"
      ]
     },
     "metadata": {
      "needs_background": "light"
     },
     "output_type": "display_data"
    }
   ],
   "source": [
    "ax = plt.gca()\n",
    "\n",
    "df.plot(kind='line',y='time_ilp',ax=ax)\n",
    "df.plot(kind='line',y='time_sat', color='red', ax=ax)\n",
    "\n",
    "plt.show()"
   ]
  },
  {
   "cell_type": "code",
   "execution_count": null,
   "metadata": {},
   "outputs": [],
   "source": []
  }
 ],
 "metadata": {
  "kernelspec": {
   "display_name": "Python 3",
   "language": "python",
   "name": "python3"
  },
  "language_info": {
   "codemirror_mode": {
    "name": "ipython",
    "version": 3
   },
   "file_extension": ".py",
   "mimetype": "text/x-python",
   "name": "python",
   "nbconvert_exporter": "python",
   "pygments_lexer": "ipython3",
   "version": "3.6.6"
  }
 },
 "nbformat": 4,
 "nbformat_minor": 2
}
