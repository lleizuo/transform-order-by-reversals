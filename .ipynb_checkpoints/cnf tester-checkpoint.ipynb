{
 "cells": [
  {
   "cell_type": "code",
   "execution_count": 1,
   "metadata": {},
   "outputs": [],
   "source": [
    "from sympy import *"
   ]
  },
  {
   "cell_type": "code",
   "execution_count": 2,
   "metadata": {},
   "outputs": [],
   "source": [
    "x1, x2, x3, x4, x5 = symbols('x1 x2 x3 x4 x5')"
   ]
  },
  {
   "cell_type": "code",
   "execution_count": 3,
   "metadata": {},
   "outputs": [],
   "source": [
    "Phi1 = x1 | x2 | x3 | x4 | x5"
   ]
  },
  {
   "cell_type": "code",
   "execution_count": 4,
   "metadata": {},
   "outputs": [],
   "source": [
    "x6, x7, x8, x9, x10 = symbols('x6 x7 x8 x9 x10')"
   ]
  },
  {
   "cell_type": "code",
   "execution_count": 5,
   "metadata": {},
   "outputs": [],
   "source": [
    "Phi2 = x6 | x7 | x8 | x9 | x10"
   ]
  },
  {
   "cell_type": "code",
   "execution_count": 6,
   "metadata": {},
   "outputs": [],
   "source": [
    "Psi = (Phi1 & Phi2) | (Not(Phi1) & Not(Phi2))"
   ]
  },
  {
   "cell_type": "code",
   "execution_count": 7,
   "metadata": {},
   "outputs": [
    {
     "data": {
      "text/plain": [
       "(x1 | x2 | x3 | x4 | x5 | ~x10) & (x1 | x2 | x3 | x4 | x5 | ~x6) & (x1 | x2 | x3 | x4 | x5 | ~x7) & (x1 | x2 | x3 | x4 | x5 | ~x8) & (x1 | x2 | x3 | x4 | x5 | ~x9) & (x10 | x6 | x7 | x8 | x9 | ~x1) & (x10 | x6 | x7 | x8 | x9 | ~x2) & (x10 | x6 | x7 | x8 | x9 | ~x3) & (x10 | x6 | x7 | x8 | x9 | ~x4) & (x10 | x6 | x7 | x8 | x9 | ~x5)"
      ]
     },
     "execution_count": 7,
     "metadata": {},
     "output_type": "execute_result"
    }
   ],
   "source": [
    "to_cnf(Psi, simplify=True)"
   ]
  },
  {
   "cell_type": "code",
   "execution_count": 8,
   "metadata": {},
   "outputs": [],
   "source": [
    "Psi = ( Not(Phi1) | Phi2) & (Not(Phi2) | Phi1)"
   ]
  },
  {
   "cell_type": "code",
   "execution_count": 9,
   "metadata": {},
   "outputs": [
    {
     "data": {
      "text/plain": [
       "(x1 | x2 | x3 | x4 | x5 | ~x10) & (x1 | x2 | x3 | x4 | x5 | ~x6) & (x1 | x2 | x3 | x4 | x5 | ~x7) & (x1 | x2 | x3 | x4 | x5 | ~x8) & (x1 | x2 | x3 | x4 | x5 | ~x9) & (x10 | x6 | x7 | x8 | x9 | ~x1) & (x10 | x6 | x7 | x8 | x9 | ~x2) & (x10 | x6 | x7 | x8 | x9 | ~x3) & (x10 | x6 | x7 | x8 | x9 | ~x4) & (x10 | x6 | x7 | x8 | x9 | ~x5)"
      ]
     },
     "execution_count": 9,
     "metadata": {},
     "output_type": "execute_result"
    }
   ],
   "source": [
    "to_cnf(Psi, simplify=True)"
   ]
  },
  {
   "cell_type": "code",
   "execution_count": 10,
   "metadata": {},
   "outputs": [],
   "source": [
    "Psi = Not(Phi1) | Phi2"
   ]
  },
  {
   "cell_type": "code",
   "execution_count": 10,
   "metadata": {},
   "outputs": [
    {
     "data": {
      "text/plain": [
       "(x1 | x2 | x3 | x4 | x5 | ~x10) & (x1 | x2 | x3 | x4 | x5 | ~x6) & (x1 | x2 | x3 | x4 | x5 | ~x7) & (x1 | x2 | x3 | x4 | x5 | ~x8) & (x1 | x2 | x3 | x4 | x5 | ~x9) & (x10 | x6 | x7 | x8 | x9 | ~x1) & (x10 | x6 | x7 | x8 | x9 | ~x2) & (x10 | x6 | x7 | x8 | x9 | ~x3) & (x10 | x6 | x7 | x8 | x9 | ~x4) & (x10 | x6 | x7 | x8 | x9 | ~x5)"
      ]
     },
     "execution_count": 10,
     "metadata": {},
     "output_type": "execute_result"
    }
   ],
   "source": [
    "to_cnf(Psi, simplify=True)"
   ]
  },
  {
   "cell_type": "code",
   "execution_count": 11,
   "metadata": {},
   "outputs": [],
   "source": [
    "Psi = Phi1 >> Phi2"
   ]
  },
  {
   "cell_type": "code",
   "execution_count": 12,
   "metadata": {},
   "outputs": [
    {
     "data": {
      "text/plain": [
       "(x10 | x6 | x7 | x8 | x9 | ~x1) & (x10 | x6 | x7 | x8 | x9 | ~x2) & (x10 | x6 | x7 | x8 | x9 | ~x3) & (x10 | x6 | x7 | x8 | x9 | ~x4) & (x10 | x6 | x7 | x8 | x9 | ~x5)"
      ]
     },
     "execution_count": 12,
     "metadata": {},
     "output_type": "execute_result"
    }
   ],
   "source": [
    "to_cnf(Psi, simplify=True)"
   ]
  },
  {
   "cell_type": "code",
   "execution_count": 13,
   "metadata": {},
   "outputs": [],
   "source": [
    "y1, y2, y3 = symbols('y1 y2 y3')"
   ]
  },
  {
   "cell_type": "code",
   "execution_count": 14,
   "metadata": {},
   "outputs": [],
   "source": [
    "sign1 = y1 >> Not(y2 & y3)"
   ]
  },
  {
   "cell_type": "code",
   "execution_count": 15,
   "metadata": {},
   "outputs": [
    {
     "data": {
      "text/plain": [
       "~y1 | ~y2 | ~y3"
      ]
     },
     "execution_count": 15,
     "metadata": {},
     "output_type": "execute_result"
    }
   ],
   "source": [
    "to_cnf(sign1,simplify=True)"
   ]
  },
  {
   "cell_type": "code",
   "execution_count": 16,
   "metadata": {},
   "outputs": [],
   "source": [
    "sign2 = y1 >> (y2 | y3)"
   ]
  },
  {
   "cell_type": "code",
   "execution_count": 17,
   "metadata": {},
   "outputs": [
    {
     "data": {
      "text/plain": [
       "y2 | y3 | ~y1"
      ]
     },
     "execution_count": 17,
     "metadata": {},
     "output_type": "execute_result"
    }
   ],
   "source": [
    "to_cnf(sign2,simplify=True)"
   ]
  },
  {
   "cell_type": "code",
   "execution_count": 18,
   "metadata": {},
   "outputs": [],
   "source": [
    "sign3 = y1 >> ((y2 >> y3)&(y3 >> y2))"
   ]
  },
  {
   "cell_type": "code",
   "execution_count": 19,
   "metadata": {},
   "outputs": [
    {
     "data": {
      "text/plain": [
       "(y2 | ~y1 | ~y3) & (y3 | ~y1 | ~y2)"
      ]
     },
     "execution_count": 19,
     "metadata": {},
     "output_type": "execute_result"
    }
   ],
   "source": [
    "to_cnf(sign3,simplify=True)"
   ]
  },
  {
   "cell_type": "code",
   "execution_count": null,
   "metadata": {},
   "outputs": [],
   "source": []
  }
 ],
 "metadata": {
  "kernelspec": {
   "display_name": "Python 3",
   "language": "python",
   "name": "python3"
  },
  "language_info": {
   "codemirror_mode": {
    "name": "ipython",
    "version": 3
   },
   "file_extension": ".py",
   "mimetype": "text/x-python",
   "name": "python",
   "nbconvert_exporter": "python",
   "pygments_lexer": "ipython3",
   "version": "3.6.6"
  }
 },
 "nbformat": 4,
 "nbformat_minor": 2
}
